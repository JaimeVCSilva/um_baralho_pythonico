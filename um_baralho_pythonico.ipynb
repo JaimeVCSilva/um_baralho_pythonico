{
 "cells": [
  {
   "attachments": {},
   "cell_type": "markdown",
   "metadata": {},
   "source": [
    "# Um baralho pythônico\n",
    "\n",
    "Esse é um pequeno notebook criado para fins didádicos, criado para testar o códico apresentado na seção 'Um Barlaho Pythônico' do livro 'Python Fluente', de Luciano Ramalho"
   ]
  },
  {
   "cell_type": "code",
   "execution_count": 22,
   "metadata": {},
   "outputs": [],
   "source": [
    "import collections\n",
    "\n",
    "Card = collections.namedtuple('Card',['rank','naipe'])\n",
    "\n",
    "class Baralho:\n",
    "    ranks = [str(n) for n in range(2,11)] + list('JQKA')\n",
    "    naipes = 'Espadas Ouros Paus Copas'.split()\n",
    "\n",
    "    def __init__(self):\n",
    "        self._cards = [Card(rank, naipe) for naipe in self.naipes\n",
    "                      for rank in self.ranks]\n",
    "    def __len__(self):\n",
    "        return len(self._cards)\n",
    "    \n",
    "    def __getitem__(self,position):\n",
    "        return self._cards[position]\n",
    "    "
   ]
  },
  {
   "cell_type": "code",
   "execution_count": 26,
   "metadata": {},
   "outputs": [
    {
     "name": "stdout",
     "output_type": "stream",
     "text": [
      "52\n",
      "Card(rank='Q', naipe='Ouros')\n",
      "Card(rank='2', naipe='Espadas')\n",
      "Card(rank='3', naipe='Espadas')\n",
      "Card(rank='4', naipe='Espadas')\n",
      "Card(rank='5', naipe='Espadas')\n",
      "Card(rank='6', naipe='Espadas')\n",
      "Card(rank='7', naipe='Espadas')\n",
      "Card(rank='8', naipe='Espadas')\n",
      "Card(rank='9', naipe='Espadas')\n",
      "Card(rank='10', naipe='Espadas')\n",
      "Card(rank='J', naipe='Espadas')\n",
      "Card(rank='Q', naipe='Espadas')\n",
      "Card(rank='K', naipe='Espadas')\n",
      "Card(rank='A', naipe='Espadas')\n",
      "Card(rank='2', naipe='Ouros')\n"
     ]
    }
   ],
   "source": [
    "Baralho1 = Baralho()\n",
    "\n",
    "#Verificando o tamanho do Baralho1 usando len(), que chamará o método\n",
    "#__len__()\n",
    "print(len(Baralho1))\n",
    "\n",
    "#Usando a notação de colchetes para selecionar uma carta do Baralho1,\n",
    "#Isso chamará o método __getitem__():\n",
    "print(Baralho1[23])\n",
    "\n",
    "#Iterando sobre o Baralho, o que também chamra o método __getitem__():\n",
    "for card in Baralho1[:14]:\n",
    "    print(card)"
   ]
  },
  {
   "cell_type": "code",
   "execution_count": 29,
   "metadata": {},
   "outputs": [
    {
     "name": "stdout",
     "output_type": "stream",
     "text": [
      "Card(rank='K', naipe='Ouros')\n",
      "Card(rank='8', naipe='Espadas')\n",
      "Card(rank='5', naipe='Paus')\n"
     ]
    }
   ],
   "source": [
    "#O método __getitem__() permite inclusive que se use random.choice\n",
    "#para se escolher uma cata aleatória do baralho,(algo um tanto quanto útil\n",
    "#em um baralho, há de se convir)\n",
    "import random\n",
    "\n",
    "for i in range(3):\n",
    "    print(random.choice(Baralho1))\n"
   ]
  }
 ],
 "metadata": {
  "kernelspec": {
   "display_name": "base",
   "language": "python",
   "name": "python3"
  },
  "language_info": {
   "codemirror_mode": {
    "name": "ipython",
    "version": 3
   },
   "file_extension": ".py",
   "mimetype": "text/x-python",
   "name": "python",
   "nbconvert_exporter": "python",
   "pygments_lexer": "ipython3",
   "version": "3.7.3"
  },
  "orig_nbformat": 4
 },
 "nbformat": 4,
 "nbformat_minor": 2
}
